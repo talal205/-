{
 "cells": [
  {
   "cell_type": "markdown",
   "id": "792d196a",
   "metadata": {},
   "source": [
    "- **print(object, end='\\n', sep=' ')**\n",
    "- **Escape Charaters:**\n",
    "    - **`\\n`:**  New Line\n",
    "    - **`\\t`:**  Tab\n",
    "    - **`\\\\`:** Backslash\n",
    "    - **`\\'` :** Single Quote\n",
    "    - **`\\\"` :** Double Quote\n",
    "- **Indentation**"
   ]
  },
  {
   "cell_type": "code",
   "execution_count": null,
   "id": "4b599123",
   "metadata": {},
   "outputs": [
    {
     "name": "stdout",
     "output_type": "stream",
     "text": [
      "Hello AMIT\n"
     ]
    }
   ],
   "source": [
    "print('Hello AMIT')"
   ]
  },
  {
   "cell_type": "code",
   "execution_count": null,
   "id": "105887d3",
   "metadata": {},
   "outputs": [
    {
     "name": "stdout",
     "output_type": "stream",
     "text": [
      "Hello AMIT\n"
     ]
    }
   ],
   "source": [
    "print('Hello', 'AMIT')"
   ]
  },
  {
   "cell_type": "code",
   "execution_count": null,
   "id": "2703a0ed",
   "metadata": {},
   "outputs": [
    {
     "name": "stdout",
     "output_type": "stream",
     "text": [
      "Hello-AMIT\n"
     ]
    }
   ],
   "source": [
    "print('Hello', 'AMIT', sep='-')"
   ]
  },
  {
   "cell_type": "code",
   "execution_count": null,
   "id": "8f59724b",
   "metadata": {},
   "outputs": [
    {
     "name": "stdout",
     "output_type": "stream",
     "text": [
      "Hello\n",
      "AMIT\n"
     ]
    }
   ],
   "source": [
    "print('Hello')\n",
    "print('AMIT')"
   ]
  },
  {
   "cell_type": "code",
   "execution_count": null,
   "id": "9fcf0185",
   "metadata": {},
   "outputs": [
    {
     "name": "stdout",
     "output_type": "stream",
     "text": [
      "Hello-AMIT\n"
     ]
    }
   ],
   "source": [
    "print('Hello', end='-')\n",
    "print('AMIT')"
   ]
  },
  {
   "cell_type": "markdown",
   "id": "c81374a0",
   "metadata": {},
   "source": [
    "## **Variables**"
   ]
  },
  {
   "cell_type": "code",
   "execution_count": null,
   "id": "c9949bca",
   "metadata": {},
   "outputs": [],
   "source": [
    "x = 5\n",
    "y = 'ali'\n",
    "z = True"
   ]
  },
  {
   "cell_type": "markdown",
   "id": "83d78326",
   "metadata": {},
   "source": [
    "------------------------------------------------------"
   ]
  },
  {
   "cell_type": "markdown",
   "id": "6191de0c",
   "metadata": {},
   "source": [
    "## **Datatypes**\n",
    "- **Text Type:** `str`\n",
    "- **Numeric Types:** `int`, `float`\n",
    "- **Boolean Type:** `bool`\n",
    "- **Sequence Types:** `list`, `tuple`, `set`\n",
    "- **Mapping Types:** `dict`\n",
    "\n",
    "`type()`\n"
   ]
  },
  {
   "cell_type": "code",
   "execution_count": null,
   "id": "bccd67af",
   "metadata": {},
   "outputs": [
    {
     "name": "stdout",
     "output_type": "stream",
     "text": [
      "<class 'int'>\n",
      "<class 'str'>\n",
      "<class 'bool'>\n"
     ]
    }
   ],
   "source": [
    "x = 5\n",
    "y = 'ali'\n",
    "z = True\n",
    "\n",
    "print(type(x))\n",
    "print(type(y))\n",
    "print(type(z))"
   ]
  },
  {
   "cell_type": "markdown",
   "id": "a2fe3e6a",
   "metadata": {},
   "source": [
    "--------------------------------------------------------------------------------"
   ]
  },
  {
   "cell_type": "markdown",
   "id": "383f3951",
   "metadata": {},
   "source": [
    "## **Strings**\n",
    "- **List Functions & Methods**\n",
    "    - `len()`: Returns the length of a string.\n",
    "    - `str()`: Convert an object to a string representation.\n",
    "    - `sorted()`: Sorts characters in a string and returns it as a new string.\n",
    "    - `max()`, `min()`: Return the  maximum or minimum value from a string.\n",
    "    - `.lower(), .upper()`: Convert all characters in a string to lowercase or uppercase, respectively.\n",
    "    - `.capitalize()`: Converts the first character in a string to capital letters.\n",
    "    - `.title()`: Convert the first character in each word in astring to capital letters.\n",
    "    - `.find(substring)`: Returns the lowest index in the string where substring is found. If not found, returns -1.\n",
    "    - `.count()`: Count how many times a substring appears in a string.\n",
    "    - `.replace('substring', 'substring')`: Replace occurrences of one substring with another.\n",
    "    - `.format()`, `f\"{}\"`: Format a string using placeholders and values provided by curly braces."
   ]
  },
  {
   "cell_type": "code",
   "execution_count": null,
   "id": "4a189914",
   "metadata": {},
   "outputs": [
    {
     "name": "stdout",
     "output_type": "stream",
     "text": [
      "13\n"
     ]
    }
   ],
   "source": [
    "text = \"Hello, World!\"\n",
    "print(len(text))"
   ]
  },
  {
   "cell_type": "code",
   "execution_count": null,
   "id": "a87e2cbe",
   "metadata": {},
   "outputs": [
    {
     "name": "stdout",
     "output_type": "stream",
     "text": [
      "123\n",
      "<class 'str'>\n"
     ]
    }
   ],
   "source": [
    "num = 123\n",
    "string_num = str(num)\n",
    "print(string_num)\n",
    "print(type(string_num))"
   ]
  },
  {
   "cell_type": "code",
   "execution_count": null,
   "id": "7459e679",
   "metadata": {},
   "outputs": [
    {
     "name": "stdout",
     "output_type": "stream",
     "text": [
      "['h', 'n', 'o', 'p', 't', 'y']\n"
     ]
    }
   ],
   "source": [
    "text = \"python\"\n",
    "sorted_text = sorted(text)\n",
    "print(sorted_text)"
   ]
  },
  {
   "cell_type": "code",
   "execution_count": null,
   "id": "b7fc7dd2",
   "metadata": {},
   "outputs": [
    {
     "name": "stdout",
     "output_type": "stream",
     "text": [
      "f\n",
      "a\n"
     ]
    }
   ],
   "source": [
    "text = \"abcdef\"\n",
    "print(max(text))\n",
    "print(min(text))"
   ]
  },
  {
   "cell_type": "code",
   "execution_count": null,
   "id": "62aa4a65",
   "metadata": {},
   "outputs": [
    {
     "name": "stdout",
     "output_type": "stream",
     "text": [
      "hello, world!\n",
      "HELLO, WORLD!\n"
     ]
    }
   ],
   "source": [
    "text = \"Hello, World!\"\n",
    "print(text.lower())\n",
    "print(text.upper())\n"
   ]
  },
  {
   "cell_type": "code",
   "execution_count": null,
   "id": "f22d70ca",
   "metadata": {},
   "outputs": [
    {
     "name": "stdout",
     "output_type": "stream",
     "text": [
      "Hello, world!\n"
     ]
    }
   ],
   "source": [
    "text = \"hello, world!\"\n",
    "print(text.capitalize())\n"
   ]
  },
  {
   "cell_type": "code",
   "execution_count": null,
   "id": "dd0ede12",
   "metadata": {},
   "outputs": [
    {
     "name": "stdout",
     "output_type": "stream",
     "text": [
      "Hello World, Welcome To Python!\n"
     ]
    }
   ],
   "source": [
    "text = \"hello world, welcome to python!\"\n",
    "print(text.title())"
   ]
  },
  {
   "cell_type": "code",
   "execution_count": null,
   "id": "cb98be6a",
   "metadata": {},
   "outputs": [
    {
     "name": "stdout",
     "output_type": "stream",
     "text": [
      "6\n",
      "-1\n"
     ]
    }
   ],
   "source": [
    "text = \"hello world\"\n",
    "index = text.find(\"world\")\n",
    "print(index)\n",
    "\n",
    "not_found = text.find(\"python\")\n",
    "print(not_found)\n"
   ]
  },
  {
   "cell_type": "code",
   "execution_count": null,
   "id": "6a68691e",
   "metadata": {},
   "outputs": [
    {
     "name": "stdout",
     "output_type": "stream",
     "text": [
      "3\n"
     ]
    }
   ],
   "source": [
    "text = \"banana\"\n",
    "count = text.count(\"a\")\n",
    "print(count)\n"
   ]
  },
  {
   "cell_type": "code",
   "execution_count": null,
   "id": "808627c9",
   "metadata": {},
   "outputs": [
    {
     "name": "stdout",
     "output_type": "stream",
     "text": [
      "I love bananas\n"
     ]
    }
   ],
   "source": [
    "text = \"I love apples\"\n",
    "new_text = text.replace(\"apples\", \"bananas\")\n",
    "print(new_text)\n"
   ]
  },
  {
   "cell_type": "code",
   "execution_count": null,
   "id": "402d123f",
   "metadata": {},
   "outputs": [
    {
     "name": "stdout",
     "output_type": "stream",
     "text": [
      "My name is Omar and I am 25 years old.\n"
     ]
    }
   ],
   "source": [
    "name = \"Omar\"\n",
    "age = 25\n",
    "formatted_text = \"My name is {} and I am {} years old.\".format(name, age)\n",
    "print(formatted_text)\n"
   ]
  },
  {
   "cell_type": "code",
   "execution_count": null,
   "id": "d4d1cc3f",
   "metadata": {},
   "outputs": [
    {
     "name": "stdout",
     "output_type": "stream",
     "text": [
      "My name is Ali and I am 30 years old.\n"
     ]
    }
   ],
   "source": [
    "name = \"Ali\"\n",
    "age = 30\n",
    "formatted_text = f\"My name is {name} and I am {age} years old.\"\n",
    "print(formatted_text)\n"
   ]
  },
  {
   "cell_type": "markdown",
   "id": "1e0d0782",
   "metadata": {},
   "source": [
    "--------------------------------------------------------------------------------"
   ]
  },
  {
   "cell_type": "markdown",
   "id": "3a7e4333",
   "metadata": {},
   "source": [
    "## **Numeric Types**\n",
    "- `int` : integer, positive or negative with unlimited length.\n",
    "- `float`: floating point number, can represent fractional numbers.\n",
    "\n",
    "`casting functions`"
   ]
  },
  {
   "cell_type": "code",
   "execution_count": null,
   "id": "73257fe7",
   "metadata": {},
   "outputs": [],
   "source": [
    "x = 5\n",
    "y = -6\n",
    "z = 3.14\n",
    "a = -122.53"
   ]
  },
  {
   "cell_type": "code",
   "execution_count": null,
   "id": "2acce3b0",
   "metadata": {},
   "outputs": [
    {
     "name": "stdout",
     "output_type": "stream",
     "text": [
      "<class 'int'>\n",
      "<class 'int'>\n",
      "<class 'float'>\n",
      "<class 'float'>\n"
     ]
    }
   ],
   "source": [
    "print(type(x))\n",
    "print(type(y))\n",
    "print(type(z))\n",
    "print(type(a))"
   ]
  },
  {
   "cell_type": "markdown",
   "id": "23ef7038",
   "metadata": {},
   "source": [
    "---------------------------------"
   ]
  },
  {
   "cell_type": "markdown",
   "id": "e5493563",
   "metadata": {},
   "source": [
    "## **Operators and Expressions**\n",
    "  - Assignment operators: `=`, `+=`, `-=` etc.\n",
    "  - Arithmetic operators (`+`, `-`, `*`, `/`, `**`, `//`, `%`) work with numeric types, except `+` it can work with strings as well.\n",
    "  - Comparison operators (`==`, `<`, `<=`, `>`, `>=`) work with any data type that supports them (e.g., text vs numbers).\n",
    "  - Logical operators: `&&`, `||` (logical AND, logical OR)."
   ]
  },
  {
   "cell_type": "code",
   "execution_count": null,
   "id": "8b0caeba",
   "metadata": {},
   "outputs": [
    {
     "name": "stdout",
     "output_type": "stream",
     "text": [
      "30\n"
     ]
    }
   ],
   "source": [
    "a = 10\n",
    "a += 5  # Now a is 15\n",
    "a *= 2  # Now a is 30\n",
    "print(a)  # Output: 30"
   ]
  },
  {
   "cell_type": "code",
   "execution_count": null,
   "id": "7cf11ab8",
   "metadata": {},
   "outputs": [
    {
     "name": "stdout",
     "output_type": "stream",
     "text": [
      "19\n",
      "11\n",
      "60\n",
      "50625\n",
      "3.75\n",
      "3\n",
      "3\n"
     ]
    }
   ],
   "source": [
    "x = 15\n",
    "y = 4\n",
    "\n",
    "print(x + y)   \n",
    "print(x - y)   \n",
    "print(x * y)\n",
    "print(x ** y)   \n",
    "print(x / y)  \n",
    "print(x // y)  \n",
    "print(x % y)   \n",
    "\n"
   ]
  },
  {
   "cell_type": "code",
   "execution_count": null,
   "id": "bfdae5da",
   "metadata": {},
   "outputs": [
    {
     "name": "stdout",
     "output_type": "stream",
     "text": [
      "False\n",
      "True\n",
      "True\n",
      "False\n"
     ]
    }
   ],
   "source": [
    "a = 10\n",
    "b = 5\n",
    "\n",
    "print(a == b)\n",
    "print(a != b)\n",
    "print(a > b)\n",
    "print(a <= b)\n"
   ]
  },
  {
   "cell_type": "code",
   "execution_count": null,
   "id": "8ed80810",
   "metadata": {},
   "outputs": [
    {
     "name": "stdout",
     "output_type": "stream",
     "text": [
      "True\n",
      "True\n",
      "True\n"
     ]
    }
   ],
   "source": [
    "x = 10\n",
    "y = 20\n",
    "\n",
    "print(x > 5 and y < 30)\n",
    "print(x < 5 or y > 15)\n",
    "print(not (x == y))\n"
   ]
  },
  {
   "cell_type": "markdown",
   "id": "fe6bac9e",
   "metadata": {},
   "source": [
    "-------------------------------"
   ]
  },
  {
   "cell_type": "markdown",
   "id": "33f8bc83",
   "metadata": {},
   "source": [
    "## **Boolean types:** `True`, `False`"
   ]
  },
  {
   "cell_type": "code",
   "execution_count": null,
   "id": "13990466",
   "metadata": {},
   "outputs": [],
   "source": []
  },
  {
   "cell_type": "markdown",
   "id": "cd9066f2",
   "metadata": {},
   "source": [
    "--------------------"
   ]
  },
  {
   "cell_type": "markdown",
   "id": "08ff69b8",
   "metadata": {},
   "source": [
    "## **Sequence Types**\n",
    "**`List []`**\n",
    "- A collection of **mutable** items in a particular order.\n",
    "- Lists are **dynamic** and can grow or shrink as needed.\n",
    "- Supports efficient insertion/deletion at arbitrary locations.\n",
    "- Can contain elements of any data type, including custom objects.\n",
    "- They have **zero-based** index.\n",
    "- `list()` function is used to create a new list object.\n",
    "\n",
    "**List Functions & Methods**\n",
    "- `len()` : Returns the number of elements in the list.\n",
    "- `max()` / `min()` : Return the maximum / minimum value from the list.\n",
    "- `sum()` : Calculate the sum of all values in the list.\n",
    "- `del()` : Deletes the item at the given index.\n",
    "- `.append(item)` : Add an element to the end of the list.\n",
    "- `.extend([items])` : Add multiple items to the end of the list.\n",
    "- `.insert(pos, item)` : Insert an element at a specific position.\n",
    "- `.remove(item)` : Remove the first occurrence of a specified value. Raises an error if not found.\n",
    "- `.pop()` : Remove and return an item at the given position. If no index provided, removes and returns the last item.\n",
    "- `.clear()` : Removes all items from the list.\n",
    "- `.copy()` : Returns a copy of the original list.\n",
    "- `.count` : Count how many times an element appears in the list.\n",
    "-  `.index()` : Find the first occurrence of a value in the list. If not found, raises an error."
   ]
  },
  {
   "cell_type": "code",
   "execution_count": null,
   "id": "360f92fa",
   "metadata": {},
   "outputs": [],
   "source": [
    "names = ['Ahmed', 'ali', 'omar', 'abdu', 'aya', 'mona', 'noha', 'omar']"
   ]
  },
  {
   "cell_type": "code",
   "execution_count": null,
   "id": "5ffbe46e",
   "metadata": {},
   "outputs": [],
   "source": [
    "names2 = ['Ahmed', 'ali', 'omar', 'abdu', 'mona', 'noha', 'omar']"
   ]
  },
  {
   "cell_type": "code",
   "execution_count": null,
   "id": "d1aea36e",
   "metadata": {},
   "outputs": [],
   "source": [
    "names.remove('aya')"
   ]
  },
  {
   "cell_type": "code",
   "execution_count": null,
   "id": "b8564c6f",
   "metadata": {},
   "outputs": [
    {
     "data": {
      "text/plain": [
       "['Ahmed', 'ali', 'omar', 'abdu', 'mona', 'noha', 'omar']"
      ]
     },
     "metadata": {},
     "output_type": "display_data"
    }
   ],
   "source": [
    "names"
   ]
  },
  {
   "cell_type": "code",
   "execution_count": null,
   "id": "7526bf97",
   "metadata": {},
   "outputs": [
    {
     "data": {
      "text/plain": [
       "[1, 2, 3, 4]"
      ]
     },
     "metadata": {},
     "output_type": "display_data"
    }
   ],
   "source": [
    "names= list([1, 2, 3, 4])\n",
    "names"
   ]
  },
  {
   "cell_type": "code",
   "execution_count": null,
   "id": "99d87c7c",
   "metadata": {},
   "outputs": [
    {
     "name": "stdout",
     "output_type": "stream",
     "text": [
      "4\n"
     ]
    }
   ],
   "source": [
    "print(len(names))"
   ]
  },
  {
   "cell_type": "code",
   "execution_count": null,
   "id": "61ceba73",
   "metadata": {},
   "outputs": [
    {
     "name": "stdout",
     "output_type": "stream",
     "text": [
      "30\n",
      "5\n"
     ]
    }
   ],
   "source": [
    "my_list = [5, 15, 25, 10, 30]\n",
    "print(max(my_list))\n",
    "print(min(my_list))"
   ]
  },
  {
   "cell_type": "code",
   "execution_count": null,
   "id": "2b553cf2",
   "metadata": {},
   "outputs": [
    {
     "name": "stdout",
     "output_type": "stream",
     "text": [
      "15\n"
     ]
    }
   ],
   "source": [
    "my_list = [1, 2, 3, 4, 5]\n",
    "print(sum(my_list))"
   ]
  },
  {
   "cell_type": "code",
   "execution_count": null,
   "id": "2dd595ea",
   "metadata": {},
   "outputs": [
    {
     "name": "stdout",
     "output_type": "stream",
     "text": [
      "['a', 'b', 'd']\n"
     ]
    },
    {
     "ename": "NameError",
     "evalue": "name 'my_list' is not defined",
     "output_type": "error",
     "traceback": [
      "\u001b[1;31m---------------------------------------------------------------------------\u001b[0m\n",
      "\u001b[1;31mNameError\u001b[0m                                 Traceback (most recent call last)\n",
      "Cell \u001b[1;32mIn[35], line 5\u001b[0m\n",
      "\u001b[0;32m      3\u001b[0m \u001b[38;5;28mprint\u001b[39m(my_list)  \u001b[38;5;66;03m# Output: ['a', 'b', 'd']\u001b[39;00m\n",
      "\u001b[0;32m      4\u001b[0m \u001b[38;5;28;01mdel\u001b[39;00m(my_list)\n",
      "\u001b[1;32m----> 5\u001b[0m \u001b[38;5;28mprint\u001b[39m(\u001b[43mmy_list\u001b[49m)\n",
      "\n",
      "\u001b[1;31mNameError\u001b[0m: name 'my_list' is not defined"
     ]
    }
   ],
   "source": [
    "my_list = ['a', 'b', 'c', 'd']\n",
    "del my_list[2]\n",
    "print(my_list)  # Output: ['a', 'b', 'd']\n",
    "del(my_list)\n",
    "print(my_list)"
   ]
  },
  {
   "cell_type": "code",
   "execution_count": null,
   "id": "d242758e",
   "metadata": {},
   "outputs": [
    {
     "name": "stdout",
     "output_type": "stream",
     "text": [
      "[1, 2, 3, 4]\n"
     ]
    }
   ],
   "source": [
    "my_list = [1, 2, 3]\n",
    "my_list.append(4)\n",
    "print(my_list)\n"
   ]
  },
  {
   "cell_type": "code",
   "execution_count": null,
   "id": "d2a5e424",
   "metadata": {},
   "outputs": [
    {
     "name": "stdout",
     "output_type": "stream",
     "text": [
      "[1, 2, 3, 4, 5, 6]\n"
     ]
    }
   ],
   "source": [
    "my_list = [1, 2, 3]\n",
    "my_list.extend([4, 5, 6])\n",
    "print(my_list)"
   ]
  },
  {
   "cell_type": "code",
   "execution_count": null,
   "id": "045699b0",
   "metadata": {},
   "outputs": [
    {
     "name": "stdout",
     "output_type": "stream",
     "text": [
      "[1, 2, 3, 4]\n"
     ]
    }
   ],
   "source": [
    "my_list = [1, 2, 4]\n",
    "my_list.insert(2, 3)\n",
    "print(my_list)"
   ]
  },
  {
   "cell_type": "code",
   "execution_count": null,
   "id": "dbceaf9a",
   "metadata": {},
   "outputs": [
    {
     "name": "stdout",
     "output_type": "stream",
     "text": [
      "[1, 3, 2]\n"
     ]
    }
   ],
   "source": [
    "my_list = [1, 2, 3, 2]\n",
    "my_list.remove(2)\n",
    "print(my_list)\n"
   ]
  },
  {
   "cell_type": "code",
   "execution_count": null,
   "id": "49e698f8",
   "metadata": {},
   "outputs": [
    {
     "name": "stdout",
     "output_type": "stream",
     "text": [
      "z\n",
      "['x', 'y']\n",
      "x\n",
      "['y']\n"
     ]
    }
   ],
   "source": [
    "my_list = ['x', 'y', 'z']\n",
    "item = my_list.pop()\n",
    "print(item)\n",
    "print(my_list)\n",
    "\n",
    "item = my_list.pop(0)\n",
    "print(item)\n",
    "print(my_list)\n"
   ]
  },
  {
   "cell_type": "code",
   "execution_count": null,
   "id": "8d3ef069",
   "metadata": {},
   "outputs": [
    {
     "name": "stdout",
     "output_type": "stream",
     "text": [
      "[]\n"
     ]
    }
   ],
   "source": [
    "my_list = [1, 2, 3]\n",
    "my_list.clear()\n",
    "print(my_list)\n"
   ]
  },
  {
   "cell_type": "code",
   "execution_count": null,
   "id": "123b878b",
   "metadata": {},
   "outputs": [
    {
     "name": "stdout",
     "output_type": "stream",
     "text": [
      "[1, 2, 3]\n",
      "[1, 2, 3, 4]\n"
     ]
    }
   ],
   "source": [
    "my_list = [1, 2, 3]\n",
    "my_copy = my_list.copy()\n",
    "my_copy.append(4)\n",
    "print(my_list)\n",
    "print(my_copy)"
   ]
  },
  {
   "cell_type": "code",
   "execution_count": null,
   "id": "eb33f494",
   "metadata": {},
   "outputs": [
    {
     "name": "stdout",
     "output_type": "stream",
     "text": [
      "3\n"
     ]
    }
   ],
   "source": [
    "my_list = [1, 2, 2, 3, 2]\n",
    "count = my_list.count(2)\n",
    "print(count)\n"
   ]
  },
  {
   "cell_type": "code",
   "execution_count": null,
   "id": "523a7bc6",
   "metadata": {},
   "outputs": [
    {
     "name": "stdout",
     "output_type": "stream",
     "text": [
      "1\n"
     ]
    }
   ],
   "source": [
    "my_list = ['a', 'b', 'c', 'b']\n",
    "index = my_list.index('b')\n",
    "print(index)"
   ]
  },
  {
   "cell_type": "markdown",
   "id": "8d73c29b",
   "metadata": {},
   "source": [
    "------------------"
   ]
  },
  {
   "cell_type": "markdown",
   "id": "0e2213e1",
   "metadata": {},
   "source": [
    "**`Tuple ()`**\n",
    "- Immutable, ordered collection of items.\n",
    "- Cannot be modified after creation.\n",
    "- Useful for fixed-size collections where the order of elements matter and you don't want them changed accidentally.\n",
    "- Tuples can be used to group related data together. For example, **coordinates** (x, y) or **RGB** color values (red, green, blue).\n",
    "- Can contain elements of any data type, including custom objects.\n",
    "- They have zero-based.\n",
    "- `tuple()` function is used to create a new tuble object.\n",
    "\n",
    "**List Functions & Methods**\n",
    "- `len()` : Returns the number of elements in the tuple.\n",
    "- `max()` / `min()` : Return the maximum / minimum value from the tuple.\n",
    "- `sum()` : Calculate the sum of all values in the tuple.\n",
    "- `.count()` : Count how many times an element appears in the tuple.\n",
    "-  `.index(value)` : Find the index position of a specific item within the tuple."
   ]
  },
  {
   "cell_type": "code",
   "execution_count": null,
   "id": "4b0fc78d",
   "metadata": {},
   "outputs": [
    {
     "name": "stdout",
     "output_type": "stream",
     "text": [
      "5\n"
     ]
    }
   ],
   "source": [
    "my_tuple = (10, 20, 30, 40, 50)\n",
    "print(len(my_tuple))"
   ]
  },
  {
   "cell_type": "code",
   "execution_count": null,
   "id": "3370fd63",
   "metadata": {},
   "outputs": [
    {
     "name": "stdout",
     "output_type": "stream",
     "text": [
      "30\n",
      "5\n"
     ]
    }
   ],
   "source": [
    "my_tuple = (5, 15, 25, 10, 30)\n",
    "print(max(my_tuple))\n",
    "print(min(my_tuple))\n"
   ]
  },
  {
   "cell_type": "code",
   "execution_count": null,
   "id": "352168db",
   "metadata": {},
   "outputs": [
    {
     "name": "stdout",
     "output_type": "stream",
     "text": [
      "15\n"
     ]
    }
   ],
   "source": [
    "my_tuple = (1, 2, 3, 4, 5)\n",
    "print(sum(my_tuple))"
   ]
  },
  {
   "cell_type": "code",
   "execution_count": null,
   "id": "922486cf",
   "metadata": {},
   "outputs": [
    {
     "name": "stdout",
     "output_type": "stream",
     "text": [
      "3\n"
     ]
    }
   ],
   "source": [
    "my_tuple = (1, 2, 2, 3, 2, 4)\n",
    "count = my_tuple.count(2)\n",
    "print(count)"
   ]
  },
  {
   "cell_type": "code",
   "execution_count": null,
   "id": "cdab81ca",
   "metadata": {},
   "outputs": [
    {
     "name": "stdout",
     "output_type": "stream",
     "text": [
      "1\n"
     ]
    }
   ],
   "source": [
    "my_tuple = ('a', 'b', 'c', 'b')\n",
    "index = my_tuple.index('b')\n",
    "print(index)"
   ]
  },
  {
   "cell_type": "markdown",
   "id": "c49c314f",
   "metadata": {},
   "source": [
    "------------------"
   ]
  },
  {
   "cell_type": "markdown",
   "id": "6016f8de",
   "metadata": {},
   "source": [
    "**`Set {}`**\n",
    "- A collection of elements.\n",
    "- The elements in a set are not stored in any particular order.\n",
    "- Sets cannot contain duplicate elements.\n",
    "- Can contain elements of any data type, including custom objects.\n",
    "- They are not subscriptable, meaning you can't access individual elements using square brackets (`[]`).\n",
    "- `set()` function is used to create a new set object.\n",
    "\n",
    "**List Functions & Methods**\n",
    "- `len()` : Returns the number of elements in the set.\n",
    "- `max()` / `min()` : Return the maximum / minimum value from the set.\n",
    "- `sum` : Calculate the sum of all values in the set.\n",
    "- `del()` : Deletes the set.\n",
    "- `.add()` :Add an item to the set if not already present.\n",
    "- `.update()` : Add multiple items to the set.\n",
    "- `.remove(item)` : Remove a single specified item from the set.\n",
    "- `.discard()` : Remove a single specified item from the set if it exists.\n",
    "- `.pop()` : Remove and return an arbitrary item from the set.\n",
    "- `.clear()` : Removes all items from the set.\n",
    "- `.copy()` : Create a copy of the original set.\n",
    "- `issubset()`, `issuperset()`: Check if one set is a subset or superset of another.\n",
    "- `union()`, `intersection()`, `difference()`: Perform operations on sets.\n"
   ]
  },
  {
   "cell_type": "code",
   "execution_count": null,
   "id": "29939b64",
   "metadata": {},
   "outputs": [
    {
     "name": "stdout",
     "output_type": "stream",
     "text": [
      "5\n"
     ]
    }
   ],
   "source": [
    "my_set = {1, 2, 3, 4, 5}\n",
    "print(len(my_set))"
   ]
  },
  {
   "cell_type": "code",
   "execution_count": null,
   "id": "47cf28b0",
   "metadata": {},
   "outputs": [
    {
     "name": "stdout",
     "output_type": "stream",
     "text": [
      "20\n",
      "5\n"
     ]
    }
   ],
   "source": [
    "my_set = {10, 20, 5, 15}\n",
    "print(max(my_set))\n",
    "print(min(my_set))"
   ]
  },
  {
   "cell_type": "code",
   "execution_count": null,
   "id": "f79590e1",
   "metadata": {},
   "outputs": [
    {
     "name": "stdout",
     "output_type": "stream",
     "text": [
      "15\n"
     ]
    }
   ],
   "source": [
    "my_set = {1, 2, 3, 4, 5}\n",
    "print(sum(my_set))\n"
   ]
  },
  {
   "cell_type": "code",
   "execution_count": null,
   "id": "0cfcd226",
   "metadata": {},
   "outputs": [
    {
     "ename": "NameError",
     "evalue": "name 'my_set' is not defined",
     "output_type": "error",
     "traceback": [
      "\u001b[1;31m---------------------------------------------------------------------------\u001b[0m\n",
      "\u001b[1;31mNameError\u001b[0m                                 Traceback (most recent call last)\n",
      "Cell \u001b[1;32mIn[53], line 3\u001b[0m\n",
      "\u001b[0;32m      1\u001b[0m my_set \u001b[38;5;241m=\u001b[39m {\u001b[38;5;241m1\u001b[39m, \u001b[38;5;241m2\u001b[39m, \u001b[38;5;241m3\u001b[39m}\n",
      "\u001b[0;32m      2\u001b[0m \u001b[38;5;28;01mdel\u001b[39;00m my_set\n",
      "\u001b[1;32m----> 3\u001b[0m \u001b[38;5;28mprint\u001b[39m(\u001b[43mmy_set\u001b[49m)\n",
      "\n",
      "\u001b[1;31mNameError\u001b[0m: name 'my_set' is not defined"
     ]
    }
   ],
   "source": [
    "my_set = {1, 2, 3}\n",
    "del my_set\n",
    "print(my_set)\n"
   ]
  },
  {
   "cell_type": "code",
   "execution_count": null,
   "id": "0be2625b",
   "metadata": {},
   "outputs": [
    {
     "name": "stdout",
     "output_type": "stream",
     "text": [
      "{1, 2, 3, 4}\n"
     ]
    }
   ],
   "source": [
    "my_set = {1, 2, 3}\n",
    "my_set.add(4)\n",
    "print(my_set)"
   ]
  },
  {
   "cell_type": "code",
   "execution_count": null,
   "id": "f1c6ab2b",
   "metadata": {},
   "outputs": [
    {
     "name": "stdout",
     "output_type": "stream",
     "text": [
      "{1, 2, 3, 4, 5}\n"
     ]
    }
   ],
   "source": [
    "my_set = {1, 2}\n",
    "my_set.update([3, 4, 5])\n",
    "print(my_set)"
   ]
  },
  {
   "cell_type": "code",
   "execution_count": null,
   "id": "9c7806b0",
   "metadata": {},
   "outputs": [
    {
     "name": "stdout",
     "output_type": "stream",
     "text": [
      "{1, 3}\n"
     ]
    }
   ],
   "source": [
    "my_set = {1, 2, 3}\n",
    "my_set.remove(2)\n",
    "print(my_set)\n",
    "\n",
    "# my_set.remove(4)  # Raises KeyError: 4 not found in the set\n"
   ]
  },
  {
   "cell_type": "code",
   "execution_count": null,
   "id": "e5f80faf",
   "metadata": {},
   "outputs": [
    {
     "name": "stdout",
     "output_type": "stream",
     "text": [
      "{1, 3}\n",
      "{1, 3}\n"
     ]
    }
   ],
   "source": [
    "my_set = {1, 2, 3}\n",
    "my_set.discard(2)\n",
    "print(my_set)\n",
    "\n",
    "my_set.discard(4)  # No error if the item is not found\n",
    "print(my_set)\n"
   ]
  },
  {
   "cell_type": "code",
   "execution_count": null,
   "id": "fcf3f393",
   "metadata": {},
   "outputs": [
    {
     "name": "stdout",
     "output_type": "stream",
     "text": [
      "1\n",
      "{2, 3}\n"
     ]
    }
   ],
   "source": [
    "my_set = {1, 2, 3}\n",
    "item = my_set.pop()\n",
    "print(item)\n",
    "print(my_set)"
   ]
  },
  {
   "cell_type": "code",
   "execution_count": null,
   "id": "7611a821",
   "metadata": {},
   "outputs": [
    {
     "name": "stdout",
     "output_type": "stream",
     "text": [
      "set()\n"
     ]
    }
   ],
   "source": [
    "my_set = {1, 2, 3}\n",
    "my_set.clear()\n",
    "print(my_set)"
   ]
  },
  {
   "cell_type": "code",
   "execution_count": null,
   "id": "e9d5bee9",
   "metadata": {},
   "outputs": [
    {
     "name": "stdout",
     "output_type": "stream",
     "text": [
      "{1, 2, 3}\n",
      "{1, 2, 3, 4}\n"
     ]
    }
   ],
   "source": [
    "my_set = {1, 2, 3}\n",
    "my_copy = my_set.copy()\n",
    "my_copy.add(4)\n",
    "print(my_set)\n",
    "print(my_copy)"
   ]
  },
  {
   "cell_type": "code",
   "execution_count": null,
   "id": "b8496d8d",
   "metadata": {},
   "outputs": [],
   "source": [
    "s1 = {12, 22, 5, 16, 5, 7}\n",
    "s2 = {5, 7, 16, 60, 41, 52, 33}\n"
   ]
  },
  {
   "cell_type": "code",
   "execution_count": null,
   "id": "ca0af1eb",
   "metadata": {},
   "outputs": [],
   "source": [
    "s3 = {12, 22, 5}"
   ]
  },
  {
   "cell_type": "code",
   "execution_count": null,
   "id": "b1edf28a",
   "metadata": {},
   "outputs": [
    {
     "data": {
      "text/plain": [
       "False"
      ]
     },
     "metadata": {},
     "output_type": "display_data"
    }
   ],
   "source": [
    "s3.issubset(s2)"
   ]
  },
  {
   "cell_type": "code",
   "execution_count": null,
   "id": "362fd9ae",
   "metadata": {},
   "outputs": [
    {
     "data": {
      "text/plain": [
       "True"
      ]
     },
     "metadata": {},
     "output_type": "display_data"
    }
   ],
   "source": [
    "s1.issuperset(s3)"
   ]
  },
  {
   "cell_type": "code",
   "execution_count": null,
   "id": "adc59d82",
   "metadata": {},
   "outputs": [
    {
     "data": {
      "text/plain": [
       "{12, 22}"
      ]
     },
     "metadata": {},
     "output_type": "display_data"
    }
   ],
   "source": [
    "s1.difference(s2)"
   ]
  },
  {
   "cell_type": "code",
   "execution_count": null,
   "id": "f317ebfe",
   "metadata": {},
   "outputs": [
    {
     "data": {
      "text/plain": [
       "{33, 41, 52, 60}"
      ]
     },
     "metadata": {},
     "output_type": "display_data"
    }
   ],
   "source": [
    "s2.difference(s1)"
   ]
  },
  {
   "cell_type": "code",
   "execution_count": null,
   "id": "e404af04",
   "metadata": {},
   "outputs": [
    {
     "data": {
      "text/plain": [
       "{5, 7, 12, 16, 22, 33, 41, 52, 60}"
      ]
     },
     "metadata": {},
     "output_type": "display_data"
    }
   ],
   "source": [
    "s1.union(s2)"
   ]
  },
  {
   "cell_type": "code",
   "execution_count": null,
   "id": "bfc66ef4",
   "metadata": {},
   "outputs": [
    {
     "data": {
      "text/plain": [
       "{5, 7, 16}"
      ]
     },
     "metadata": {},
     "output_type": "display_data"
    }
   ],
   "source": [
    "s1.intersection(s2)"
   ]
  },
  {
   "cell_type": "markdown",
   "id": "9e06cf04",
   "metadata": {},
   "source": [
    "-----------------------"
   ]
  },
  {
   "cell_type": "markdown",
   "id": "b3f62d48",
   "metadata": {},
   "source": [
    "**`Dictionary {k:v}`**\n",
    "- A collection of **key-value** pairs.\n",
    "- The key-value pairs in a dictionary are not stored in any particular order.\n",
    "- Keys in a dictionary must be **unique**, but values can be duplicated.\n",
    "- Keys can be of any **immutable** data type, such as integers, strings, or tuples. Values can be of any data type, including custom objects.\n",
    "- Dictionaries are subscriptable using keys ([]) to access individual values.\n",
    "- `dict()` function is used to create a new dictionary object.\n",
    "\n",
    "**Dictionary Functions & Methods**\n",
    "- `len()` : Returns the number of key-value pairs in the dictionary.\n",
    "- `del()` : Deletes the item with the specified key.\n",
    "- `.keys()` : Returns a view object of all keys in the dictionary.\n",
    "- `.values()` : Returns a view object of all values in the dictionary.\n",
    "- `.items()` : Returns a view object of all key-value pairs (tuples) in the dictionary.\n",
    "- `.get()` : Returns the value of the specified key. If the key does not exist, it returns None (or a default value if provided).\n",
    "- `.pop()` : Removes and returns the value of the specified key. If the key does not exist, it raises a KeyError (or returns a default value if provided).\n",
    "- `.popitem()` : Removes and returns an arbitrary key-value pair from the dictionary as a tuple.\n",
    "- `.clear()` : Removes all key-value pairs from the dictionary.\n",
    "- `.copy()` : Creates a shallow copy of the dictionary.\n",
    "- `.update()` : Updates the dictionary with the specified key-value pairs from another dictionary or iterable of key-value pairs."
   ]
  },
  {
   "cell_type": "code",
   "execution_count": null,
   "id": "693f7391",
   "metadata": {},
   "outputs": [
    {
     "name": "stdout",
     "output_type": "stream",
     "text": [
      "3\n"
     ]
    }
   ],
   "source": [
    "my_dict = {'a': 1, 'b': 2, 'c': 3}\n",
    "print(len(my_dict))\n"
   ]
  },
  {
   "cell_type": "code",
   "execution_count": null,
   "id": "d4b721a4",
   "metadata": {},
   "outputs": [
    {
     "name": "stdout",
     "output_type": "stream",
     "text": [
      "{'a': 1, 'c': 3}\n"
     ]
    }
   ],
   "source": [
    "my_dict = {'a': 1, 'b': 2, 'c': 3}\n",
    "del my_dict['b']\n",
    "print(my_dict)"
   ]
  },
  {
   "cell_type": "code",
   "execution_count": null,
   "id": "669bb1f5",
   "metadata": {},
   "outputs": [
    {
     "name": "stdout",
     "output_type": "stream",
     "text": [
      "dict_keys(['a', 'b', 'c'])\n"
     ]
    }
   ],
   "source": [
    "my_dict = {'a': 1, 'b': 2, 'c': 3}\n",
    "keys = my_dict.keys()\n",
    "print(keys)"
   ]
  },
  {
   "cell_type": "code",
   "execution_count": null,
   "id": "ea86e13c",
   "metadata": {},
   "outputs": [
    {
     "name": "stdout",
     "output_type": "stream",
     "text": [
      "dict_values([1, 2, 3])\n"
     ]
    }
   ],
   "source": [
    "my_dict = {'a': 1, 'b': 2, 'c': 3}\n",
    "values = my_dict.values()\n",
    "print(values)"
   ]
  },
  {
   "cell_type": "code",
   "execution_count": null,
   "id": "56a9b1cc",
   "metadata": {},
   "outputs": [
    {
     "name": "stdout",
     "output_type": "stream",
     "text": [
      "dict_items([('a', 1), ('b', 2), ('c', 3)])\n"
     ]
    }
   ],
   "source": [
    "my_dict = {'a': 1, 'b': 2, 'c': 3}\n",
    "items = my_dict.items()\n",
    "print(items)"
   ]
  },
  {
   "cell_type": "code",
   "execution_count": null,
   "id": "cd85b5c1",
   "metadata": {},
   "outputs": [
    {
     "name": "stdout",
     "output_type": "stream",
     "text": [
      "2\n",
      "None\n",
      "Default\n"
     ]
    }
   ],
   "source": [
    "my_dict = {'a': 1, 'b': 2, 'c': 3}\n",
    "value = my_dict.get('b')\n",
    "print(value)\n",
    "\n",
    "# Key not found, returns None\n",
    "value = my_dict.get('z')\n",
    "print(value)\n",
    "\n",
    "# Key not found, returns default value\n",
    "value = my_dict.get('z', 'Default')\n",
    "print(value)"
   ]
  },
  {
   "cell_type": "code",
   "execution_count": null,
   "id": "0db20740",
   "metadata": {},
   "outputs": [
    {
     "name": "stdout",
     "output_type": "stream",
     "text": [
      "2\n",
      "{'a': 1, 'c': 3}\n",
      "Not Found\n"
     ]
    }
   ],
   "source": [
    "my_dict = {'a': 1, 'b': 2, 'c': 3}\n",
    "value = my_dict.pop('b')\n",
    "print(value)\n",
    "print(my_dict)\n",
    "\n",
    "# Key not found, returns default value\n",
    "value = my_dict.pop('z', 'Not Found')\n",
    "print(value)"
   ]
  },
  {
   "cell_type": "code",
   "execution_count": null,
   "id": "471b85fd",
   "metadata": {},
   "outputs": [
    {
     "name": "stdout",
     "output_type": "stream",
     "text": [
      "('c', 3)\n",
      "{'a': 1, 'b': 2}\n"
     ]
    }
   ],
   "source": [
    "my_dict = {'a': 1, 'b': 2, 'c': 3}\n",
    "item = my_dict.popitem()\n",
    "print(item)\n",
    "print(my_dict)"
   ]
  },
  {
   "cell_type": "code",
   "execution_count": null,
   "id": "26273d0c",
   "metadata": {},
   "outputs": [
    {
     "name": "stdout",
     "output_type": "stream",
     "text": [
      "{}\n"
     ]
    }
   ],
   "source": [
    "my_dict = {'a': 1, 'b': 2, 'c': 3}\n",
    "my_dict.clear()\n",
    "print(my_dict)"
   ]
  },
  {
   "cell_type": "code",
   "execution_count": null,
   "id": "032ffa34",
   "metadata": {},
   "outputs": [
    {
     "name": "stdout",
     "output_type": "stream",
     "text": [
      "{'a': 1, 'b': 2}\n",
      "{'a': 1, 'b': 2, 'c': 3}\n"
     ]
    }
   ],
   "source": [
    "my_dict = {'a': 1, 'b': 2}\n",
    "my_copy = my_dict.copy()\n",
    "my_copy['c'] = 3\n",
    "print(my_dict)\n",
    "print(my_copy)"
   ]
  },
  {
   "cell_type": "code",
   "execution_count": null,
   "id": "c34b0cbf",
   "metadata": {},
   "outputs": [
    {
     "name": "stdout",
     "output_type": "stream",
     "text": [
      "{'a': 1, 'b': 3, 'c': 4}\n",
      "{'a': 1, 'b': 3, 'c': 4, 'd': 5, 'e': 6}\n"
     ]
    }
   ],
   "source": [
    "my_dict = {'a': 1, 'b': 2}\n",
    "my_dict.update({'b': 3, 'c': 4})\n",
    "print(my_dict)\n",
    "\n",
    "# Using an iterable of key-value pairs\n",
    "my_dict.update([('d', 5), ('e', 6)])\n",
    "print(my_dict)"
   ]
  },
  {
   "cell_type": "markdown",
   "id": "3758ca11",
   "metadata": {},
   "source": [
    "-------------"
   ]
  },
  {
   "cell_type": "markdown",
   "id": "ed88002d",
   "metadata": {},
   "source": [
    "### **Control Statements**\n",
    "`if..else`"
   ]
  },
  {
   "cell_type": "code",
   "execution_count": null,
   "id": "8d2ddc50",
   "metadata": {},
   "outputs": [
    {
     "name": "stdout",
     "output_type": "stream",
     "text": [
      "6 is equal to 6\n"
     ]
    }
   ],
   "source": [
    "x = 6\n",
    "y = 6\n",
    "\n",
    "\n",
    "if x > y:\n",
    "    print(f\"{x} is greater than {y}\")\n",
    "\n",
    "elif y > x:\n",
    "    print(f\"{y} is greater than {x}\")\n",
    "\n",
    "else:\n",
    "    print(f'{x} is equal to {y}')"
   ]
  },
  {
   "cell_type": "code",
   "execution_count": null,
   "id": "4167f6d2",
   "metadata": {},
   "outputs": [
    {
     "name": "stdout",
     "output_type": "stream",
     "text": [
      "7 is greater than 6 and 7 is greater than 5\n"
     ]
    }
   ],
   "source": [
    "x = 6\n",
    "y = 7\n",
    "z = 5\n",
    "\n",
    "if x > y and y > z:\n",
    "    print(f\"{x} is greater than {y} and {y} is greater than {z}\")\n",
    "\n",
    "elif y > x and z > y:\n",
    "    print(f\"{y} is greater than {x} and {z} is greater than {y}\")\n",
    "\n",
    "elif y > x and y > z:\n",
    "    print(f\"{y} is greater than {x} and {y} is greater than {z}\")\n",
    "\n",
    "elif x > y and z > x:\n",
    "    print(f\"{x} is greater than {y} and {z} is greater than {x}\")\n",
    "\n",
    "else:\n",
    "    print(f'{x} is equal to {y}')"
   ]
  },
  {
   "cell_type": "code",
   "execution_count": null,
   "id": "af4ecff1",
   "metadata": {},
   "outputs": [
    {
     "name": "stdout",
     "output_type": "stream",
     "text": [
      "ali\n",
      "<class 'str'>\n"
     ]
    }
   ],
   "source": [
    "x = input(\"Enter your name\")\n",
    "print(x)\n",
    "print(type(x))"
   ]
  },
  {
   "cell_type": "code",
   "execution_count": null,
   "id": "fedf00f3",
   "metadata": {},
   "outputs": [
    {
     "name": "stdout",
     "output_type": "stream",
     "text": [
      "25\n",
      "<class 'int'>\n"
     ]
    }
   ],
   "source": [
    "x = int(input(\"Enter your Age\"))\n",
    "print(x)\n",
    "print(type(x))"
   ]
  },
  {
   "cell_type": "code",
   "execution_count": null,
   "id": "8e745edd",
   "metadata": {},
   "outputs": [
    {
     "name": "stdout",
     "output_type": "stream",
     "text": [
      "6 is greater than 5 and 7 is greater than 6\n"
     ]
    }
   ],
   "source": [
    "x = int(input('Enter X'))\n",
    "y = int(input(\"Enter Y\"))\n",
    "z = int(input('Enter Z'))\n",
    "\n",
    "if x > y and y > z:\n",
    "    print(f\"{x} is greater than {y} and {y} is greater than {z}\")\n",
    "\n",
    "elif y > x and z > y:\n",
    "    print(f\"{y} is greater than {x} and {z} is greater than {y}\")\n",
    "\n",
    "elif y > x and y > z:\n",
    "    print(f\"{y} is greater than {x} and {y} is greater than {z}\")\n",
    "\n",
    "elif x > y and z > x:\n",
    "    print(f\"{x} is greater than {y} and {z} is greater than {x}\")\n",
    "\n",
    "else:\n",
    "    print(f'{x} is equal to {y}')"
   ]
  },
  {
   "cell_type": "markdown",
   "id": "bcbeae94",
   "metadata": {},
   "source": [
    "-----------------------------------\n",
    "-----------------------------------"
   ]
  },
  {
   "cell_type": "markdown",
   "id": "33860fd7",
   "metadata": {},
   "source": [
    "# **Loops**\n",
    "- Loops allow you to execute a block of code repeatedly.\n",
    "- There are two types of loops that we can use inPython:\n",
    "    - The `for` loop\n",
    "    - The `while` loop"
   ]
  },
  {
   "cell_type": "markdown",
   "id": "d1efc209",
   "metadata": {},
   "source": [
    "### **`For`**\n",
    "A for loop is used when you know how many times you want to execute a block of code."
   ]
  },
  {
   "cell_type": "markdown",
   "id": "9b88054f",
   "metadata": {},
   "source": [
    "- **Iterating over a `range` of numbers:**"
   ]
  },
  {
   "cell_type": "code",
   "execution_count": null,
   "id": "85896011",
   "metadata": {},
   "outputs": [],
   "source": [
    "for i in range(5):\n",
    "    print(i)\n"
   ]
  },
  {
   "cell_type": "code",
   "execution_count": null,
   "id": "bf326d70",
   "metadata": {},
   "outputs": [],
   "source": [
    "for i in range(1, 11, 2):\n",
    "    print(i)\n"
   ]
  },
  {
   "cell_type": "code",
   "execution_count": null,
   "id": "d6eae5c5",
   "metadata": {},
   "outputs": [],
   "source": [
    "for i in range(1, 11):\n",
    "    if i % 2 == 0:\n",
    "        print(i)\n"
   ]
  },
  {
   "cell_type": "code",
   "execution_count": null,
   "id": "b43a7fe8",
   "metadata": {},
   "outputs": [],
   "source": [
    "for i in range(1, 11, 2):\n",
    "    print(i)"
   ]
  },
  {
   "cell_type": "code",
   "execution_count": null,
   "id": "aa233813",
   "metadata": {},
   "outputs": [],
   "source": [
    "n = 5\n",
    "factorial = 1\n",
    "for i in range(1, n+1):\n",
    "    factorial *= i\n",
    "print(\"Factorial of\", n, \"is\", factorial)"
   ]
  },
  {
   "cell_type": "code",
   "execution_count": null,
   "id": "fc7db251",
   "metadata": {},
   "outputs": [],
   "source": [
    "n = 5\n",
    "sum_of_squares = 0\n",
    "for i in range(1, n+1):\n",
    "    sum_of_squares += i**2\n",
    "print(\"Sum of squares from 1 to\", n, \"is\", sum_of_squares)"
   ]
  },
  {
   "cell_type": "markdown",
   "id": "34f3f738",
   "metadata": {},
   "source": [
    "- **Iterating over characters in a `string`:**"
   ]
  },
  {
   "cell_type": "code",
   "execution_count": null,
   "id": "e6565864",
   "metadata": {},
   "outputs": [],
   "source": [
    "for char in \"hello\":\n",
    "    print(char)\n"
   ]
  },
  {
   "cell_type": "code",
   "execution_count": null,
   "id": "4c6b815b",
   "metadata": {},
   "outputs": [],
   "source": [
    "string = \"hello\"\n",
    "vowel_count = 0\n",
    "for char in string:\n",
    "    if char in 'aeiou':\n",
    "        vowel_count += 1\n",
    "print(\"Number of vowels:\", vowel_count)\n"
   ]
  },
  {
   "cell_type": "code",
   "execution_count": null,
   "id": "47ae9de0",
   "metadata": {},
   "outputs": [],
   "source": [
    "string = \"hello\"\n",
    "reversed_string = \"\"\n",
    "for char in string:\n",
    "    reversed_string = char + reversed_string\n",
    "print(\"Reversed string:\", reversed_string)\n"
   ]
  },
  {
   "cell_type": "code",
   "execution_count": null,
   "id": "95e7b7ac",
   "metadata": {},
   "outputs": [],
   "source": [
    "string = \"hello\"\n",
    "uppercase_string = \"\"\n",
    "for char in string:\n",
    "    uppercase_string += char.upper()\n",
    "print(\"Uppercase string:\", uppercase_string)\n"
   ]
  },
  {
   "cell_type": "markdown",
   "id": "e1b7811e",
   "metadata": {},
   "source": [
    "- **Iterating over elements in a `list`:**"
   ]
  },
  {
   "cell_type": "code",
   "execution_count": null,
   "id": "c2e3a3f2",
   "metadata": {},
   "outputs": [],
   "source": [
    "my_list = [1, 2, 3, 4, 5]\n",
    "for num in my_list:\n",
    "    print(num)\n"
   ]
  },
  {
   "cell_type": "code",
   "execution_count": null,
   "id": "f5ca4d27",
   "metadata": {},
   "outputs": [],
   "source": [
    "my_list = [1, 2, 3, 4, 5]\n",
    "sum_of_list = 0\n",
    "for num in my_list:\n",
    "    sum_of_list += num\n",
    "print(\"Sum of list:\", sum_of_list)\n"
   ]
  },
  {
   "cell_type": "code",
   "execution_count": null,
   "id": "430d07f7",
   "metadata": {},
   "outputs": [],
   "source": [
    "my_list = [1, 2, 3, 3, 4, 4, 5]\n",
    "seen = set()\n",
    "duplicates = []\n",
    "for num in my_list:\n",
    "    if num in seen:\n",
    "        duplicates.append(num)\n",
    "    else:\n",
    "        seen.add(num)\n",
    "print(\"Duplicates:\", duplicates)\n"
   ]
  },
  {
   "cell_type": "code",
   "execution_count": null,
   "id": "023bf61d",
   "metadata": {},
   "outputs": [],
   "source": [
    "my_list = [4, 7, 2, 9, 1]\n",
    "max_value = my_list[0]\n",
    "for num in my_list:\n",
    "    if num > max_value:\n",
    "        max_value = num\n",
    "print(\"Maximum value:\", max_value)\n"
   ]
  },
  {
   "cell_type": "markdown",
   "id": "6d1d751b",
   "metadata": {},
   "source": [
    "- **Iterating over `tuples`:**"
   ]
  },
  {
   "cell_type": "code",
   "execution_count": null,
   "id": "bf844c54",
   "metadata": {},
   "outputs": [],
   "source": [
    "my_tuples = [(1, 'a'), (2, 'b'), (3, 'c')]\n",
    "for tup in my_tuples:\n",
    "    print(tup)\n"
   ]
  },
  {
   "cell_type": "code",
   "execution_count": null,
   "id": "145d4449",
   "metadata": {},
   "outputs": [],
   "source": [
    "my_tuples = [(1, 2), (3, 4), (5, 6)]\n",
    "sum_of_pairs = []\n",
    "for tup in my_tuples:\n",
    "    sum_of_pairs.append(sum(tup))\n",
    "print(\"Sum of pairs:\", sum_of_pairs)\n"
   ]
  },
  {
   "cell_type": "code",
   "execution_count": null,
   "id": "00aa6a9a",
   "metadata": {},
   "outputs": [],
   "source": [
    "data = [(1, 'apple', 0.5), (2, 'banana', 0.7), (3, 'orange', 0.6)]\n",
    "for item in data:\n",
    "    print(\"ID:\", item[0], \"Name:\", item[1], \"Price:\", item[2])\n"
   ]
  },
  {
   "cell_type": "code",
   "execution_count": null,
   "id": "431cdf4a",
   "metadata": {},
   "outputs": [],
   "source": []
  },
  {
   "cell_type": "markdown",
   "id": "258c96f5",
   "metadata": {},
   "source": [
    "- **Iterating over key-value pairs in a `dictionary`:**"
   ]
  },
  {
   "cell_type": "code",
   "execution_count": null,
   "id": "bf5e0273",
   "metadata": {},
   "outputs": [],
   "source": [
    "my_dict = {'a': 1, 'b': 2, 'c': 3}\n",
    "for key, value in my_dict.items():\n",
    "    print(key, value)\n"
   ]
  },
  {
   "cell_type": "code",
   "execution_count": null,
   "id": "66fb4cbe",
   "metadata": {},
   "outputs": [],
   "source": [
    "salaries = {'Salaries':{'1': 9500, '2': 12000, '3': 8000, '4': 16500}}\n",
    "filtered_values = []\n",
    "for value in salaries.values():\n",
    "    for salary in value.values():\n",
    "        if salary > 10000:\n",
    "            filtered_values.append(salary)\n",
    "print(\"Filtered values:\", filtered_values)"
   ]
  },
  {
   "cell_type": "code",
   "execution_count": null,
   "id": "ddc3c640",
   "metadata": {},
   "outputs": [],
   "source": [
    "my_dict = {'a': 1, 'b': 2, 'c': 3}\n",
    "for key in my_dict:\n",
    "    my_dict[key] *= 2\n",
    "print(\"Updated dictionary:\", my_dict)\n"
   ]
  },
  {
   "cell_type": "markdown",
   "id": "7744debb",
   "metadata": {},
   "source": [
    "### **`While`**"
   ]
  },
  {
   "cell_type": "code",
   "execution_count": null,
   "id": "4a550a15",
   "metadata": {},
   "outputs": [],
   "source": [
    "count = 1\n",
    "while count <= 10:\n",
    "    print(count)\n",
    "    count += 1\n"
   ]
  },
  {
   "cell_type": "code",
   "execution_count": null,
   "id": "b09e9474",
   "metadata": {},
   "outputs": [],
   "source": [
    "n = 5\n",
    "factorial = 1\n",
    "while n > 0:\n",
    "    factorial *= n\n",
    "    n -= 1\n",
    "print(\"Factorial:\", factorial)\n"
   ]
  },
  {
   "cell_type": "code",
   "execution_count": null,
   "id": "cda29a78",
   "metadata": {},
   "outputs": [],
   "source": [
    "total = 0\n",
    "num = 1\n",
    "while num <= 100:\n",
    "    total += num\n",
    "    num += 1\n",
    "print(\"Sum:\", total)\n"
   ]
  },
  {
   "cell_type": "code",
   "execution_count": null,
   "id": "1506d0ab",
   "metadata": {},
   "outputs": [],
   "source": [
    "string = \"hello\"\n",
    "reversed_string = \"\"\n",
    "index = len(string) - 1\n",
    "while index >= 0:\n",
    "    reversed_string += string[index]\n",
    "    index -= 1\n",
    "print(\"Reversed string:\", reversed_string)"
   ]
  },
  {
   "cell_type": "markdown",
   "id": "6ac62e18",
   "metadata": {},
   "source": [
    "### **break - continue - pass**"
   ]
  },
  {
   "cell_type": "code",
   "execution_count": null,
   "id": "63d26813",
   "metadata": {},
   "outputs": [],
   "source": [
    "numbers = [1, 2, 3, 4, 5, 6, 7, 8, 9, 10]\n",
    "for num in numbers:\n",
    "    if num == 5:\n",
    "        break\n",
    "    print(num)\n"
   ]
  },
  {
   "cell_type": "code",
   "execution_count": null,
   "id": "81f0f2af",
   "metadata": {},
   "outputs": [],
   "source": [
    "while True:\n",
    "    user_input = input(\"Enter a word (type 'exit' to quit): \")\n",
    "    if user_input.lower() == 'exit':\n",
    "        break\n",
    "    print(\"You entered:\", user_input)\n"
   ]
  },
  {
   "cell_type": "code",
   "execution_count": null,
   "id": "3b77989f",
   "metadata": {},
   "outputs": [],
   "source": [
    "numbers = [1, 2, 3, 4, 5, 6, 7, 8, 9, 10]\n",
    "for num in numbers:\n",
    "    if num % 2 == 0:\n",
    "        continue\n",
    "    print(num)\n"
   ]
  },
  {
   "cell_type": "code",
   "execution_count": null,
   "id": "4574e123",
   "metadata": {},
   "outputs": [],
   "source": [
    "my_list = [1, 2, 3, None, 5, None, 7, 8, None, 10]\n",
    "for item in my_list:\n",
    "    if item is None:\n",
    "        continue\n",
    "    print(item)\n"
   ]
  },
  {
   "cell_type": "code",
   "execution_count": null,
   "id": "c5efb94d",
   "metadata": {},
   "outputs": [],
   "source": [
    "for i in range(5):\n",
    "    pass"
   ]
  }
 ],
 "metadata": {
  "language_info": {
   "name": "python"
  }
 },
 "nbformat": 4,
 "nbformat_minor": 5
}
