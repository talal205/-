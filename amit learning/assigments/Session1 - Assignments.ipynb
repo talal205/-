{
 "cells": [
  {
   "cell_type": "markdown",
   "id": "c067dcd9",
   "metadata": {},
   "source": [
    "### Q1. Create a list of five integers and print it."
   ]
  },
  {
   "cell_type": "code",
   "execution_count": 32,
   "id": "19a0e252",
   "metadata": {},
   "outputs": [
    {
     "name": "stdout",
     "output_type": "stream",
     "text": [
      "[1, 2, 3, 4, 5]\n"
     ]
    }
   ],
   "source": [
    "list = [1, 2, 3, 4, 5]\n",
    "print(list)\n"
   ]
  },
  {
   "cell_type": "markdown",
   "id": "a2d05fd3",
   "metadata": {},
   "source": [
    "### Q2. Write a program to find the length of a list."
   ]
  },
  {
   "cell_type": "code",
   "execution_count": 33,
   "id": "6b75c5d1",
   "metadata": {},
   "outputs": [
    {
     "name": "stdout",
     "output_type": "stream",
     "text": [
      "5\n"
     ]
    }
   ],
   "source": [
    "list = [1, 2, 3, 4, 5]\n",
    "print(len(list))\n"
   ]
  },
  {
   "cell_type": "markdown",
   "id": "c705d6ac",
   "metadata": {},
   "source": [
    "### Q3. Create a tuple with three elements and print the second item."
   ]
  },
  {
   "cell_type": "code",
   "execution_count": 34,
   "id": "61c1e11e",
   "metadata": {},
   "outputs": [
    {
     "name": "stdout",
     "output_type": "stream",
     "text": [
      "20\n"
     ]
    }
   ],
   "source": [
    "my_tuple = (10, 20, 30)\n",
    "print(my_tuple[1])\n"
   ]
  },
  {
   "cell_type": "markdown",
   "id": "a3fb1843",
   "metadata": {},
   "source": [
    "### Q4. Create a dictionary with 3 key-value pairs and print all keys."
   ]
  },
  {
   "cell_type": "code",
   "execution_count": 35,
   "id": "c588c043",
   "metadata": {},
   "outputs": [
    {
     "name": "stdout",
     "output_type": "stream",
     "text": [
      "dict_keys(['a', 'b', 'c'])\n"
     ]
    }
   ],
   "source": [
    "my_dict = {\"a\": 1, \"b\": 2, \"c\": 3}\n",
    "print(my_dict.keys())\n"
   ]
  },
  {
   "cell_type": "markdown",
   "id": "499c5644",
   "metadata": {},
   "source": [
    "### Q5. Write a program to convert a list into a set."
   ]
  },
  {
   "cell_type": "code",
   "execution_count": 36,
   "id": "5b3e7b61",
   "metadata": {},
   "outputs": [
    {
     "name": "stdout",
     "output_type": "stream",
     "text": [
      "{1, 2, 3, 4}\n"
     ]
    }
   ],
   "source": [
    "my_list = [1, 2, 2, 3, 4]\n",
    "my_set = set(my_list)\n",
    "print(my_set)\n"
   ]
  },
  {
   "cell_type": "markdown",
   "id": "a0e55b4f",
   "metadata": {},
   "source": [
    "### Q6. Create a string and print its first and last characters."
   ]
  },
  {
   "cell_type": "code",
   "execution_count": 37,
   "id": "b5cc0d08",
   "metadata": {},
   "outputs": [
    {
     "name": "stdout",
     "output_type": "stream",
     "text": [
      "H o\n"
     ]
    }
   ],
   "source": [
    "my_string = \"Hello\"\n",
    "print(my_string[0], my_string[-1])\n"
   ]
  },
  {
   "cell_type": "markdown",
   "id": "f4adb032",
   "metadata": {},
   "source": [
    "### Q7. Take input from the user and print it."
   ]
  },
  {
   "cell_type": "code",
   "execution_count": 38,
   "id": "cc325325",
   "metadata": {},
   "outputs": [
    {
     "name": "stdout",
     "output_type": "stream",
     "text": [
      "25\n"
     ]
    }
   ],
   "source": [
    "user_input = input(\"Enter something: \")\n",
    "print(user_input)\n"
   ]
  },
  {
   "cell_type": "markdown",
   "id": "32003cd3",
   "metadata": {},
   "source": [
    "### Q8. Write a program to add two numbers entered by the user."
   ]
  },
  {
   "cell_type": "code",
   "execution_count": 39,
   "id": "1cce015b",
   "metadata": {},
   "outputs": [
    {
     "name": "stdout",
     "output_type": "stream",
     "text": [
      "Sum is: 50\n"
     ]
    }
   ],
   "source": [
    "num1 = int(input(\"Enter first number: \"))\n",
    "num2 = int(input(\"Enter second number: \"))\n",
    "sum = num1 + num2\n",
    "print(\"Sum is:\", sum)\n"
   ]
  },
  {
   "cell_type": "markdown",
   "id": "7eb34a32",
   "metadata": {},
   "source": [
    "### Q9. Use `type()` function to check the data type of a variable."
   ]
  },
  {
   "cell_type": "code",
   "execution_count": 40,
   "id": "cfd2011d",
   "metadata": {},
   "outputs": [
    {
     "name": "stdout",
     "output_type": "stream",
     "text": [
      "<class 'int'>\n"
     ]
    }
   ],
   "source": [
    "my_var = 10\n",
    "print(type(my_var))\n"
   ]
  },
  {
   "cell_type": "markdown",
   "id": "be64d8e2",
   "metadata": {},
   "source": [
    "### Q10. Create a boolean variable and print it."
   ]
  },
  {
   "cell_type": "code",
   "execution_count": 41,
   "id": "46812973",
   "metadata": {},
   "outputs": [
    {
     "name": "stdout",
     "output_type": "stream",
     "text": [
      "True\n"
     ]
    }
   ],
   "source": [
    "my_bool = True\n",
    "print(my_bool)\n"
   ]
  },
  {
   "cell_type": "markdown",
   "id": "53765968",
   "metadata": {},
   "source": [
    "### Q11. Check if a number is positive, negative, or zero using `if` statement."
   ]
  },
  {
   "cell_type": "code",
   "execution_count": 42,
   "id": "0623e6d5",
   "metadata": {},
   "outputs": [
    {
     "name": "stdout",
     "output_type": "stream",
     "text": [
      "Positive\n"
     ]
    }
   ],
   "source": [
    "number = int(input(\"Enter a number: \"))\n",
    "if number > 0:\n",
    "    print(\"Positive\")\n",
    "elif number < 0:\n",
    "    print(\"Negative\")\n",
    "else:\n",
    "    print(\"Zero\")\n"
   ]
  },
  {
   "cell_type": "markdown",
   "id": "79b115a2",
   "metadata": {},
   "source": [
    "### Q12. Write a program to check if a number is even or odd."
   ]
  },
  {
   "cell_type": "code",
   "execution_count": 43,
   "id": "efcc28dc",
   "metadata": {},
   "outputs": [
    {
     "name": "stdout",
     "output_type": "stream",
     "text": [
      "Odd\n"
     ]
    }
   ],
   "source": [
    "number = int(input(\"Enter a number: \"))\n",
    "if number % 2 == 0:\n",
    "    print(\"Even\")\n",
    "else:\n",
    "    print(\"Odd\")\n"
   ]
  },
  {
   "cell_type": "markdown",
   "id": "4e15996d",
   "metadata": {},
   "source": [
    "### Q13. Write a program that prints your name 3 times using a `for` loop."
   ]
  },
  {
   "cell_type": "code",
   "execution_count": 44,
   "id": "a213b9fd",
   "metadata": {},
   "outputs": [
    {
     "name": "stdout",
     "output_type": "stream",
     "text": [
      "YourName\n",
      "YourName\n",
      "YourName\n"
     ]
    }
   ],
   "source": [
    "for _ in range(3):\n",
    "    print(\"YourName\")"
   ]
  },
  {
   "cell_type": "markdown",
   "id": "3deb94cc",
   "metadata": {},
   "source": [
    "### Q14. Write a `for` loop that prints numbers from 1 to 10."
   ]
  },
  {
   "cell_type": "code",
   "execution_count": 45,
   "id": "2f806196",
   "metadata": {},
   "outputs": [
    {
     "name": "stdout",
     "output_type": "stream",
     "text": [
      "1\n",
      "2\n",
      "3\n",
      "4\n",
      "5\n",
      "6\n",
      "7\n",
      "8\n",
      "9\n",
      "10\n"
     ]
    }
   ],
   "source": [
    "for i in range(1, 11):\n",
    "    print(i)\n"
   ]
  },
  {
   "cell_type": "markdown",
   "id": "ede90dd1",
   "metadata": {},
   "source": [
    "### Q15. Use a `for` loop to iterate over a list and print each element."
   ]
  },
  {
   "cell_type": "code",
   "execution_count": 46,
   "id": "ca9ff07e",
   "metadata": {},
   "outputs": [
    {
     "name": "stdout",
     "output_type": "stream",
     "text": [
      "10\n",
      "20\n",
      "30\n",
      "40\n",
      "50\n"
     ]
    }
   ],
   "source": [
    "my_list = [10, 20, 30, 40, 50]\n",
    "for item in my_list:\n",
    "    print(item)\n"
   ]
  },
  {
   "cell_type": "markdown",
   "id": "850c2ca8",
   "metadata": {},
   "source": [
    "### Q16. Write a program to calculate the sum of numbers from 1 to 100."
   ]
  },
  {
   "cell_type": "code",
   "execution_count": 47,
   "id": "16a8cd5c",
   "metadata": {},
   "outputs": [
    {
     "name": "stdout",
     "output_type": "stream",
     "text": [
      "sum: 1\n",
      "sum: 3\n",
      "sum: 6\n",
      "sum: 10\n",
      "sum: 15\n",
      "sum: 21\n",
      "sum: 28\n",
      "sum: 36\n",
      "sum: 45\n",
      "sum: 55\n",
      "sum: 66\n",
      "sum: 78\n",
      "sum: 91\n",
      "sum: 105\n",
      "sum: 120\n",
      "sum: 136\n",
      "sum: 153\n",
      "sum: 171\n",
      "sum: 190\n",
      "sum: 210\n",
      "sum: 231\n",
      "sum: 253\n",
      "sum: 276\n",
      "sum: 300\n",
      "sum: 325\n",
      "sum: 351\n",
      "sum: 378\n",
      "sum: 406\n",
      "sum: 435\n",
      "sum: 465\n",
      "sum: 496\n",
      "sum: 528\n",
      "sum: 561\n",
      "sum: 595\n",
      "sum: 630\n",
      "sum: 666\n",
      "sum: 703\n",
      "sum: 741\n",
      "sum: 780\n",
      "sum: 820\n",
      "sum: 861\n",
      "sum: 903\n",
      "sum: 946\n",
      "sum: 990\n",
      "sum: 1035\n",
      "sum: 1081\n",
      "sum: 1128\n",
      "sum: 1176\n",
      "sum: 1225\n",
      "sum: 1275\n",
      "sum: 1326\n",
      "sum: 1378\n",
      "sum: 1431\n",
      "sum: 1485\n",
      "sum: 1540\n",
      "sum: 1596\n",
      "sum: 1653\n",
      "sum: 1711\n",
      "sum: 1770\n",
      "sum: 1830\n",
      "sum: 1891\n",
      "sum: 1953\n",
      "sum: 2016\n",
      "sum: 2080\n",
      "sum: 2145\n",
      "sum: 2211\n",
      "sum: 2278\n",
      "sum: 2346\n",
      "sum: 2415\n",
      "sum: 2485\n",
      "sum: 2556\n",
      "sum: 2628\n",
      "sum: 2701\n",
      "sum: 2775\n",
      "sum: 2850\n",
      "sum: 2926\n",
      "sum: 3003\n",
      "sum: 3081\n",
      "sum: 3160\n",
      "sum: 3240\n",
      "sum: 3321\n",
      "sum: 3403\n",
      "sum: 3486\n",
      "sum: 3570\n",
      "sum: 3655\n",
      "sum: 3741\n",
      "sum: 3828\n",
      "sum: 3916\n",
      "sum: 4005\n",
      "sum: 4095\n",
      "sum: 4186\n",
      "sum: 4278\n",
      "sum: 4371\n",
      "sum: 4465\n",
      "sum: 4560\n",
      "sum: 4656\n",
      "sum: 4753\n",
      "sum: 4851\n",
      "sum: 4950\n",
      "sum: 5050\n"
     ]
    }
   ],
   "source": [
    "sum = 0\n",
    "for num in range(1, 101):\n",
    "    sum += num\n",
    "    print(\"sum:\", sum)\n"
   ]
  },
  {
   "cell_type": "markdown",
   "id": "6250746b",
   "metadata": {},
   "source": [
    "### Q17. Write a `for` loop that prints only even numbers from 1 to 20."
   ]
  },
  {
   "cell_type": "code",
   "execution_count": 48,
   "id": "2764eb99",
   "metadata": {},
   "outputs": [
    {
     "name": "stdout",
     "output_type": "stream",
     "text": [
      "2\n",
      "4\n",
      "6\n",
      "8\n",
      "10\n",
      "12\n",
      "14\n",
      "16\n",
      "18\n",
      "20\n"
     ]
    }
   ],
   "source": [
    "for i in range(2, 21, 2):\n",
    "    print(i)\n"
   ]
  },
  {
   "cell_type": "markdown",
   "id": "3b2408b5",
   "metadata": {},
   "source": [
    "### Q18. Write a `for` loop to print each character in a string."
   ]
  },
  {
   "cell_type": "code",
   "execution_count": 49,
   "id": "fc73c912",
   "metadata": {},
   "outputs": [
    {
     "name": "stdout",
     "output_type": "stream",
     "text": [
      "H\n",
      "e\n",
      "l\n",
      "l\n",
      "o\n"
     ]
    }
   ],
   "source": [
    "my_string = \"Hello\"\n",
    "for char in my_string:\n",
    "    print(char)\n"
   ]
  },
  {
   "cell_type": "markdown",
   "id": "c75cb287",
   "metadata": {},
   "source": [
    "### Q19. Use a `for` loop to print all values in a dictionary."
   ]
  },
  {
   "cell_type": "code",
   "execution_count": 50,
   "id": "62d9d757",
   "metadata": {},
   "outputs": [
    {
     "name": "stdout",
     "output_type": "stream",
     "text": [
      "1\n",
      "2\n",
      "3\n"
     ]
    }
   ],
   "source": [
    "my_dict = {\"a\": 1, \"b\": 2, \"c\": 3}\n",
    "for key, value in my_dict.items():\n",
    "    print(value)\n"
   ]
  },
  {
   "cell_type": "markdown",
   "id": "6994e4ca",
   "metadata": {},
   "source": [
    "### Q20. Write a program that uses a `for` loop to find the factorial of a number."
   ]
  },
  {
   "cell_type": "code",
   "execution_count": 51,
   "id": "254cb435",
   "metadata": {},
   "outputs": [
    {
     "name": "stdout",
     "output_type": "stream",
     "text": [
      "120\n"
     ]
    }
   ],
   "source": [
    "num = 5\n",
    "factorial = 1\n",
    "for i in range(1, num + 1):\n",
    "    factorial *= i\n",
    "print(factorial)\n"
   ]
  },
  {
   "cell_type": "markdown",
   "id": "92d3b300",
   "metadata": {},
   "source": [
    "### Q21. Create a list of your 5 favorite fruits."
   ]
  },
  {
   "cell_type": "code",
   "execution_count": 52,
   "id": "3f2d07e3",
   "metadata": {},
   "outputs": [
    {
     "name": "stdout",
     "output_type": "stream",
     "text": [
      "['Apple', 'Banana', 'Orange', 'Mango', 'Pineapple']\n"
     ]
    }
   ],
   "source": [
    "fruits = [\"Apple\", \"Banana\", \"Orange\", \"Mango\", \"Pineapple\"]\n",
    "print(fruits)\n"
   ]
  },
  {
   "cell_type": "markdown",
   "id": "e3433500",
   "metadata": {},
   "source": [
    "### Q22. Add a new fruit to your list of favorite fruits."
   ]
  },
  {
   "cell_type": "code",
   "execution_count": 53,
   "id": "f9ffd8d2",
   "metadata": {},
   "outputs": [
    {
     "data": {
      "text/plain": [
       "['Apple', 'Banana', 'Orange', 'Mango', 'Pineapple', 'peach']"
      ]
     },
     "execution_count": 53,
     "metadata": {},
     "output_type": "execute_result"
    }
   ],
   "source": [
    "fruits = [\"Apple\", \"Banana\", \"Orange\", \"Mango\", \"Pineapple\"]\n",
    "fruits.append(\"peach\")\n",
    "fruits"
   ]
  },
  {
   "cell_type": "markdown",
   "id": "a33917e4",
   "metadata": {},
   "source": [
    "### Q23. Remove the second item from a list."
   ]
  },
  {
   "cell_type": "code",
   "execution_count": 54,
   "id": "0fac364c",
   "metadata": {},
   "outputs": [
    {
     "name": "stdout",
     "output_type": "stream",
     "text": [
      "['Apple', 'Orange', 'Mango', 'Pineapple', 'peach']\n"
     ]
    }
   ],
   "source": [
    "fruits.pop(1)\n",
    "print(fruits)\n"
   ]
  },
  {
   "cell_type": "markdown",
   "id": "497047c6",
   "metadata": {},
   "source": [
    "### Q24. Sort a list of numbers in descending order."
   ]
  },
  {
   "cell_type": "code",
   "execution_count": 55,
   "id": "b9717e06",
   "metadata": {},
   "outputs": [
    {
     "name": "stdout",
     "output_type": "stream",
     "text": [
      "[9, 7, 5, 3, 1]\n"
     ]
    }
   ],
   "source": [
    "numbers = [5, 1, 9, 3, 7]\n",
    "numbers.sort(reverse=True)\n",
    "print(numbers)\n"
   ]
  },
  {
   "cell_type": "markdown",
   "id": "6a3a29ad",
   "metadata": {},
   "source": [
    "### Q25. Find the maximum and minimum values in a list."
   ]
  },
  {
   "cell_type": "code",
   "execution_count": 56,
   "id": "82cc41dd",
   "metadata": {},
   "outputs": [
    {
     "name": "stdout",
     "output_type": "stream",
     "text": [
      "Max: 9, Min: 1\n"
     ]
    }
   ],
   "source": [
    "numbers = [5, 1, 9, 3, 7]\n",
    "max_value = max(numbers)\n",
    "min_value = min(numbers)\n",
    "print(f\"Max: {max_value}, Min: {min_value}\")\n"
   ]
  },
  {
   "cell_type": "markdown",
   "id": "a5077085",
   "metadata": {},
   "source": [
    "### Q26. Count how many times a value appears in a list."
   ]
  },
  {
   "cell_type": "code",
   "execution_count": 57,
   "id": "5953d267",
   "metadata": {},
   "outputs": [
    {
     "name": "stdout",
     "output_type": "stream",
     "text": [
      "3\n"
     ]
    }
   ],
   "source": [
    "numbers = [1, 2, 2, 3, 4, 2, 5]\n",
    "count = numbers.count(2)\n",
    "print(count)\n"
   ]
  },
  {
   "cell_type": "markdown",
   "id": "e767871e",
   "metadata": {},
   "source": [
    "### Q27. Check if a specific value exists in a list."
   ]
  },
  {
   "cell_type": "code",
   "execution_count": 58,
   "id": "97bb90bd",
   "metadata": {},
   "outputs": [
    {
     "name": "stdout",
     "output_type": "stream",
     "text": [
      "True\n"
     ]
    }
   ],
   "source": [
    "my_list = [1, 2, 3, 4, 5]\n",
    "value_exists = 3 in my_list\n",
    "print(value_exists)\n"
   ]
  },
  {
   "cell_type": "markdown",
   "id": "346632ba",
   "metadata": {},
   "source": [
    "### Q28. Reverse a list without using reverse() function."
   ]
  },
  {
   "cell_type": "code",
   "execution_count": 59,
   "id": "663befc6",
   "metadata": {},
   "outputs": [
    {
     "name": "stdout",
     "output_type": "stream",
     "text": [
      "[5, 4, 3, 2, 1]\n"
     ]
    }
   ],
   "source": [
    "my_list = [1, 2, 3, 4, 5]\n",
    "reversed_list = my_list[::-1]\n",
    "print(reversed_list)\n"
   ]
  },
  {
   "cell_type": "markdown",
   "id": "4f28f319",
   "metadata": {},
   "source": [
    "### Q29. Make a copy of a list and modify the copy only."
   ]
  },
  {
   "cell_type": "code",
   "execution_count": 60,
   "id": "e665fc96",
   "metadata": {},
   "outputs": [
    {
     "name": "stdout",
     "output_type": "stream",
     "text": [
      "Original: [1, 2, 3]\n",
      "Copied: [1, 2, 3, 4]\n"
     ]
    }
   ],
   "source": [
    "original_list = [1, 2, 3]\n",
    "copied_list = original_list.copy()\n",
    "copied_list.append(4)\n",
    "print(\"Original:\", original_list)\n",
    "print(\"Copied:\", copied_list)\n"
   ]
  },
  {
   "cell_type": "markdown",
   "id": "4fd7ffdf",
   "metadata": {},
   "source": [
    "### Q30. Use slicing to get the first 3 items of a list."
   ]
  },
  {
   "cell_type": "code",
   "execution_count": 61,
   "id": "5109bd94",
   "metadata": {},
   "outputs": [
    {
     "name": "stdout",
     "output_type": "stream",
     "text": [
      "[1, 2, 3]\n"
     ]
    }
   ],
   "source": [
    "my_list = [1, 2, 3, 4, 5]\n",
    "first_three = my_list[:3]\n",
    "print(first_three)\n"
   ]
  },
  {
   "cell_type": "markdown",
   "id": "fa7d8cbc",
   "metadata": {},
   "source": [
    "### Q31. Create a tuple with 4 elements and print its length."
   ]
  },
  {
   "cell_type": "code",
   "execution_count": 62,
   "id": "1d519f4c",
   "metadata": {},
   "outputs": [
    {
     "name": "stdout",
     "output_type": "stream",
     "text": [
      "4\n"
     ]
    }
   ],
   "source": [
    "my_tuple = (10, 20, 30, 40)\n",
    "print(len(my_tuple))\n"
   ]
  },
  {
   "cell_type": "markdown",
   "id": "1fc14e2a",
   "metadata": {},
   "source": [
    "### Q32. Access the last element of a tuple."
   ]
  },
  {
   "cell_type": "code",
   "execution_count": 63,
   "id": "924f8f7f",
   "metadata": {},
   "outputs": [
    {
     "name": "stdout",
     "output_type": "stream",
     "text": [
      "40\n"
     ]
    }
   ],
   "source": [
    "my_tuple = (10, 20, 30, 40)\n",
    "print(my_tuple[-1])\n"
   ]
  },
  {
   "cell_type": "markdown",
   "id": "31393230",
   "metadata": {},
   "source": [
    "### Q33. Convert a tuple into a list."
   ]
  },
  {
   "cell_type": "code",
   "execution_count": 64,
   "id": "d419f723",
   "metadata": {},
   "outputs": [
    {
     "ename": "TypeError",
     "evalue": "'list' object is not callable",
     "output_type": "error",
     "traceback": [
      "\u001b[31m---------------------------------------------------------------------------\u001b[39m",
      "\u001b[31mTypeError\u001b[39m                                 Traceback (most recent call last)",
      "\u001b[36mCell\u001b[39m\u001b[36m \u001b[39m\u001b[32mIn[64]\u001b[39m\u001b[32m, line 2\u001b[39m\n\u001b[32m      1\u001b[39m my_tuple = (\u001b[32m10\u001b[39m, \u001b[32m20\u001b[39m, \u001b[32m30\u001b[39m)\n\u001b[32m----> \u001b[39m\u001b[32m2\u001b[39m my_list = \u001b[38;5;28;43mlist\u001b[39;49m\u001b[43m(\u001b[49m\u001b[43mmy_tuple\u001b[49m\u001b[43m)\u001b[49m\n\u001b[32m      3\u001b[39m \u001b[38;5;28mprint\u001b[39m(my_list)\n",
      "\u001b[31mTypeError\u001b[39m: 'list' object is not callable"
     ]
    }
   ],
   "source": [
    "my_tuple = (10, 20, 30)\n",
    "my_list = list(my_tuple)\n",
    "print(my_list)\n"
   ]
  },
  {
   "cell_type": "markdown",
   "id": "f2605bd7",
   "metadata": {},
   "source": [
    "### Q34. Convert a list into a tuple."
   ]
  },
  {
   "cell_type": "code",
   "execution_count": null,
   "id": "2fc2424c",
   "metadata": {},
   "outputs": [],
   "source": [
    "my_list = [10, 20, 30]\n",
    "my_tuple = tuple(my_list)\n",
    "print(my_tuple)\n"
   ]
  },
  {
   "cell_type": "markdown",
   "id": "8ea26fed",
   "metadata": {},
   "source": [
    "### Q35. Check if a value exists in a tuple."
   ]
  },
  {
   "cell_type": "code",
   "execution_count": null,
   "id": "502ca8ef",
   "metadata": {},
   "outputs": [],
   "source": [
    "my_tuple = (10, 20, 30)\n",
    "print(20 in my_tuple)\n"
   ]
  },
  {
   "cell_type": "markdown",
   "id": "1861d487",
   "metadata": {},
   "source": [
    "### Q36. Concatenate two tuples."
   ]
  },
  {
   "cell_type": "code",
   "execution_count": null,
   "id": "25990032",
   "metadata": {},
   "outputs": [],
   "source": [
    "tuple1 = (1, 2, 3)\n",
    "tuple2 = (4, 5, 6)\n",
    "concatenated_tuple = tuple1 + tuple2\n",
    "print(concatenated_tuple)\n"
   ]
  },
  {
   "cell_type": "markdown",
   "id": "7a62f436",
   "metadata": {},
   "source": [
    "### Q37. Repeat a tuple 3 times."
   ]
  },
  {
   "cell_type": "code",
   "execution_count": null,
   "id": "1342d94a",
   "metadata": {},
   "outputs": [],
   "source": [
    "my_tuple = (1, 2, 3)\n",
    "repeated_tuple = my_tuple * 3\n",
    "print(repeated_tuple)"
   ]
  },
  {
   "cell_type": "markdown",
   "id": "5d54389e",
   "metadata": {},
   "source": [
    "### Q38. Find the index of an element in a tuple."
   ]
  },
  {
   "cell_type": "code",
   "execution_count": null,
   "id": "3dbcc47b",
   "metadata": {},
   "outputs": [],
   "source": [
    "my_tuple = (10, 20, 30, 40)\n",
    "index = my_tuple.index(30)\n",
    "print(index)\n"
   ]
  },
  {
   "cell_type": "markdown",
   "id": "41e0cb37",
   "metadata": {},
   "source": [
    "### Q39. Use tuple unpacking to assign values to variables."
   ]
  },
  {
   "cell_type": "code",
   "execution_count": null,
   "id": "b38c6788",
   "metadata": {},
   "outputs": [],
   "source": [
    "my_tuple = (1, 2, 3)\n",
    "a, b, c = my_tuple\n",
    "print(a, b, c)\n"
   ]
  },
  {
   "cell_type": "markdown",
   "id": "70b69ddd",
   "metadata": {},
   "source": [
    "### Q40. Create a nested list and access an inner element."
   ]
  },
  {
   "cell_type": "code",
   "execution_count": null,
   "id": "0d05b3e7",
   "metadata": {},
   "outputs": [],
   "source": [
    "nested_list = [[1, 2, 3], [4, 5, 6], [7, 8, 9]]\n",
    "inner_element = nested_list[1][2]\n",
    "print(inner_element)"
   ]
  },
  {
   "cell_type": "markdown",
   "id": "70256f64",
   "metadata": {},
   "source": [
    "### Q41. Create a set of 5 unique colors."
   ]
  },
  {
   "cell_type": "code",
   "execution_count": null,
   "id": "4be1c2bb",
   "metadata": {},
   "outputs": [],
   "source": [
    "colors = {\"Red\", \"Blue\", \"Green\", \"Yellow\", \"Purple\"}\n",
    "print(colors)\n"
   ]
  },
  {
   "cell_type": "markdown",
   "id": "774bddd7",
   "metadata": {},
   "source": [
    "### Q42. Add a new color to the set."
   ]
  },
  {
   "cell_type": "code",
   "execution_count": null,
   "id": "9129a921",
   "metadata": {},
   "outputs": [],
   "source": [
    "colors.add(\"Orange\")\n",
    "print(colors)\n"
   ]
  },
  {
   "cell_type": "markdown",
   "id": "3cc0470c",
   "metadata": {},
   "source": [
    "### Q43. Remove an item from the set using `remove()`."
   ]
  },
  {
   "cell_type": "code",
   "execution_count": null,
   "id": "e85423ac",
   "metadata": {},
   "outputs": [],
   "source": [
    "colors.remove(\"Green\")\n",
    "print(colors)\n"
   ]
  },
  {
   "cell_type": "markdown",
   "id": "b7047e3b",
   "metadata": {},
   "source": [
    "### Q44. Use `discard()` to remove an item that may or may not exist."
   ]
  },
  {
   "cell_type": "code",
   "execution_count": null,
   "id": "adf2b3c2",
   "metadata": {},
   "outputs": [],
   "source": [
    "colors.discard(\"Pink\") \n",
    "print(colors)\n"
   ]
  },
  {
   "cell_type": "markdown",
   "id": "0c0338ca",
   "metadata": {},
   "source": [
    "### Q45. Create a set from a list with duplicate values."
   ]
  },
  {
   "cell_type": "code",
   "execution_count": null,
   "id": "6918aaf4",
   "metadata": {},
   "outputs": [],
   "source": [
    "my_list = [1, 2, 2, 3, 4, 4, 5]\n",
    "my_set = set(my_list)\n",
    "print(my_set)\n"
   ]
  },
  {
   "cell_type": "markdown",
   "id": "531ece70",
   "metadata": {},
   "source": [
    "### Q46. Find the union of two sets."
   ]
  },
  {
   "cell_type": "code",
   "execution_count": null,
   "id": "f7c8d3a1",
   "metadata": {},
   "outputs": [],
   "source": [
    "set1 = {1, 2, 3}\n",
    "set2 = {3, 4, 5}\n",
    "union = set1 | set2\n",
    "print(union)\n"
   ]
  },
  {
   "cell_type": "markdown",
   "id": "37ddac6b",
   "metadata": {},
   "source": [
    "### Q47. Find the intersection of two sets."
   ]
  },
  {
   "cell_type": "code",
   "execution_count": null,
   "id": "cbb3d58f",
   "metadata": {},
   "outputs": [
    {
     "name": "stdout",
     "output_type": "stream",
     "text": [
      "{3}\n"
     ]
    }
   ],
   "source": [
    "set1 = {1, 2, 3}\n",
    "set2 = {3, 4, 5}\n",
    "intersection = set1 & set2\n",
    "print(intersection)\n"
   ]
  },
  {
   "cell_type": "markdown",
   "id": "cfba12fb",
   "metadata": {},
   "source": [
    "### Q48. Find the difference between two sets."
   ]
  },
  {
   "cell_type": "code",
   "execution_count": null,
   "id": "87d9d198",
   "metadata": {},
   "outputs": [],
   "source": [
    "set1 = {1, 2, 3}\n",
    "set2 = {3, 4, 5}\n",
    "difference = set1 - set2\n",
    "print(difference)\n"
   ]
  },
  {
   "cell_type": "markdown",
   "id": "fe3124b5",
   "metadata": {},
   "source": [
    "### Q49. Check if a set is a subset of another set."
   ]
  },
  {
   "cell_type": "code",
   "execution_count": null,
   "id": "9414638f",
   "metadata": {},
   "outputs": [],
   "source": [
    "set1 = {1, 2, 3}\n",
    "set2 = {1, 2, 3, 4, 5}\n",
    "is_subset = set1.issubset(set2)\n",
    "print(is_subset)"
   ]
  },
  {
   "cell_type": "markdown",
   "id": "3155bdce",
   "metadata": {},
   "source": [
    "### Q50. Check if two sets are disjoint."
   ]
  },
  {
   "cell_type": "code",
   "execution_count": null,
   "id": "14b85863",
   "metadata": {},
   "outputs": [],
   "source": [
    "set1 = {1, 2, 3}\n",
    "set2 = {4, 5, 6}\n",
    "are_disjoint = set1.isdisjoint(set2)\n",
    "print(are_disjoint)\n"
   ]
  },
  {
   "cell_type": "markdown",
   "id": "bad362eb",
   "metadata": {},
   "source": [
    "### Q51. Create a dictionary with 3 items: name, age, and city."
   ]
  },
  {
   "cell_type": "code",
   "execution_count": null,
   "id": "e2ae3ccd",
   "metadata": {},
   "outputs": [],
   "source": [
    "person = {\"name\": \"John\", \"age\": 30, \"city\": \"New York\"}\n",
    "print(person)\n"
   ]
  },
  {
   "cell_type": "markdown",
   "id": "222708fb",
   "metadata": {},
   "source": [
    "### Q52. Add a new key-value pair to the dictionary."
   ]
  },
  {
   "cell_type": "code",
   "execution_count": null,
   "id": "f309e8a9",
   "metadata": {},
   "outputs": [],
   "source": [
    "person[\"job\"] = \"Engineer\"\n",
    "print(person)\n"
   ]
  },
  {
   "cell_type": "markdown",
   "id": "608c6307",
   "metadata": {},
   "source": [
    "### Q53. Update the value of an existing key in the dictionary."
   ]
  },
  {
   "cell_type": "code",
   "execution_count": null,
   "id": "a47b25b9",
   "metadata": {},
   "outputs": [],
   "source": [
    "person[\"age\"] = 31\n",
    "print(person)\n"
   ]
  },
  {
   "cell_type": "markdown",
   "id": "99e23fe0",
   "metadata": {},
   "source": [
    "### Q54. Remove a key from the dictionary using `pop()`."
   ]
  },
  {
   "cell_type": "code",
   "execution_count": null,
   "id": "eb851e69",
   "metadata": {},
   "outputs": [],
   "source": [
    "person = {\"name\": \"John\", \"age\": 30, \"city\": \"New York\"}\n",
    "person.pop(\"age\")\n",
    "print(person)\n"
   ]
  },
  {
   "cell_type": "markdown",
   "id": "c84dbe1f",
   "metadata": {},
   "source": [
    "### Q55. Check if a key exists in the dictionary."
   ]
  },
  {
   "cell_type": "code",
   "execution_count": null,
   "id": "6c8dfaec",
   "metadata": {},
   "outputs": [],
   "source": [
    "person = {\"name\": \"John\", \"age\": 30, \"city\": \"New York\"}\n",
    "key_exists = \"name\" in person\n",
    "print(key_exists)\n"
   ]
  },
  {
   "cell_type": "markdown",
   "id": "430ec294",
   "metadata": {},
   "source": [
    "### Q56. Loop through a dictionary and print all keys and values."
   ]
  },
  {
   "cell_type": "code",
   "execution_count": null,
   "id": "6795ec48",
   "metadata": {},
   "outputs": [],
   "source": [
    "person = {\"name\": \"John\", \"age\": 30, \"city\": \"New York\"}\n",
    "for key, value in person.items():\n",
    "    print(f\"{key}: {value}\")\n"
   ]
  },
  {
   "cell_type": "markdown",
   "id": "da3690bb",
   "metadata": {},
   "source": [
    "### Q57. Get all keys from a dictionary using `keys()`."
   ]
  },
  {
   "cell_type": "code",
   "execution_count": null,
   "id": "cb54c698",
   "metadata": {},
   "outputs": [],
   "source": [
    "person = {\"name\": \"John\", \"age\": 30, \"city\": \"New York\"}\n",
    "keys = person.keys()\n",
    "print(keys)\n"
   ]
  },
  {
   "cell_type": "markdown",
   "id": "d31b70c5",
   "metadata": {},
   "source": [
    "### Q58. Get all values from a dictionary using `values()`."
   ]
  },
  {
   "cell_type": "code",
   "execution_count": null,
   "id": "3a766b70",
   "metadata": {},
   "outputs": [],
   "source": [
    "person = {\"name\": \"John\", \"age\": 30, \"city\": \"New York\"}\n",
    "values = person.values()\n",
    "print(values)\n"
   ]
  },
  {
   "cell_type": "markdown",
   "id": "b0a9ba1f",
   "metadata": {},
   "source": [
    "### Q59. Get all key-value pairs using `items()`."
   ]
  },
  {
   "cell_type": "code",
   "execution_count": null,
   "id": "10080491",
   "metadata": {},
   "outputs": [],
   "source": [
    "person = {\"name\": \"John\", \"age\": 30, \"city\": \"New York\"}\n",
    "items = person.items()\n",
    "print(items)\n"
   ]
  },
  {
   "cell_type": "markdown",
   "id": "58cd862e",
   "metadata": {},
   "source": [
    "### Q60. Create a dictionary from two lists: one for keys and one for values."
   ]
  },
  {
   "cell_type": "code",
   "execution_count": null,
   "id": "24a5326f",
   "metadata": {},
   "outputs": [
    {
     "name": "stdout",
     "output_type": "stream",
     "text": [
      "{'name': 'John', 'age': 30, 'city': 'New York'}\n"
     ]
    }
   ],
   "source": [
    "keys = ['name', 'age', 'city']\n",
    "values = ['John', 30, 'New York']\n",
    "person = (dict(zip(keys, values)))\n",
    "print(person)"
   ]
  }
 ],
 "metadata": {
  "kernelspec": {
   "display_name": "Python 3",
   "language": "python",
   "name": "python3"
  },
  "language_info": {
   "codemirror_mode": {
    "name": "ipython",
    "version": 3
   },
   "file_extension": ".py",
   "mimetype": "text/x-python",
   "name": "python",
   "nbconvert_exporter": "python",
   "pygments_lexer": "ipython3",
   "version": "3.13.5"
  }
 },
 "nbformat": 4,
 "nbformat_minor": 5
}
